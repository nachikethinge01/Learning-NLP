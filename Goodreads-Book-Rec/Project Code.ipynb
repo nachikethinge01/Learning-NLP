{
 "cells": [
  {
   "cell_type": "code",
   "execution_count": 2,
   "id": "9c365ac4",
   "metadata": {},
   "outputs": [
    {
     "name": "stderr",
     "output_type": "stream",
     "text": [
      "[nltk_data] Downloading package stopwords to\n",
      "[nltk_data]     /Users/nachikethinge/nltk_data...\n",
      "[nltk_data]   Package stopwords is already up-to-date!\n"
     ]
    },
    {
     "data": {
      "text/plain": [
       "True"
      ]
     },
     "execution_count": 2,
     "metadata": {},
     "output_type": "execute_result"
    }
   ],
   "source": [
    "import pandas as pd\n",
    "import numpy as np\n",
    "import matplotlib.pyplot as plt\n",
    "\n",
    "import string\n",
    "import re\n",
    "\n",
    "from sklearn.feature_extraction.text import TfidfVectorizer\n",
    "from sklearn.neighbors import NearestNeighbors\n",
    "from sklearn.metrics.pairwise import linear_kernel\n",
    "from sklearn.metrics.pairwise import cosine_similarity\n",
    "\n",
    "import nltk\n",
    "#import ssl\n",
    "\n",
    "#try:\n",
    " #   _create_unverified_https_context = ssl._create_unverified_context\n",
    "#except AttributeError:\n",
    "#    pass\n",
    "#else:\n",
    " #   ssl._create_default_https_context = _create_unverified_https_context\n",
    "#nltk.download('stopwords')\n"
   ]
  },
  {
   "cell_type": "markdown",
   "id": "99b41b0b",
   "metadata": {},
   "source": [
    "## Importing Data"
   ]
  },
  {
   "cell_type": "code",
   "execution_count": 69,
   "id": "43ecf280",
   "metadata": {},
   "outputs": [
    {
     "name": "stdout",
     "output_type": "stream",
     "text": [
      "Found .DS_Store\n"
     ]
    }
   ],
   "source": [
    "import os\n",
    "\n",
    "filepath = \"Dataset/Books\"\n",
    "\n",
    "df_list = []\n",
    "\n",
    "for filename in os.listdir(filepath):\n",
    "    if(filename == \".DS_Store\"):\n",
    "        print(\"Found .DS_Store\")\n",
    "    else:\n",
    "        df = pd.read_csv(os.path.join(filepath, filename))\n",
    "    \n",
    "        df_list.append(df)\n",
    "\n",
    "\n",
    "df = pd.concat(df_list)"
   ]
  },
  {
   "cell_type": "code",
   "execution_count": 70,
   "id": "1e6631b3",
   "metadata": {},
   "outputs": [
    {
     "data": {
      "text/plain": [
       "(775177, 21)"
      ]
     },
     "execution_count": 70,
     "metadata": {},
     "output_type": "execute_result"
    }
   ],
   "source": [
    "df.shape"
   ]
  },
  {
   "cell_type": "code",
   "execution_count": 71,
   "id": "a512b2fb",
   "metadata": {},
   "outputs": [
    {
     "data": {
      "text/html": [
       "<div>\n",
       "<style scoped>\n",
       "    .dataframe tbody tr th:only-of-type {\n",
       "        vertical-align: middle;\n",
       "    }\n",
       "\n",
       "    .dataframe tbody tr th {\n",
       "        vertical-align: top;\n",
       "    }\n",
       "\n",
       "    .dataframe thead th {\n",
       "        text-align: right;\n",
       "    }\n",
       "</style>\n",
       "<table border=\"1\" class=\"dataframe\">\n",
       "  <thead>\n",
       "    <tr style=\"text-align: right;\">\n",
       "      <th></th>\n",
       "      <th>Id</th>\n",
       "      <th>Name</th>\n",
       "      <th>Authors</th>\n",
       "      <th>ISBN</th>\n",
       "      <th>Rating</th>\n",
       "      <th>PublishYear</th>\n",
       "      <th>PublishMonth</th>\n",
       "      <th>PublishDay</th>\n",
       "      <th>Publisher</th>\n",
       "      <th>RatingDist5</th>\n",
       "      <th>...</th>\n",
       "      <th>RatingDist3</th>\n",
       "      <th>RatingDist2</th>\n",
       "      <th>RatingDist1</th>\n",
       "      <th>RatingDistTotal</th>\n",
       "      <th>CountsOfReview</th>\n",
       "      <th>Language</th>\n",
       "      <th>PagesNumber</th>\n",
       "      <th>Description</th>\n",
       "      <th>pagesNumber</th>\n",
       "      <th>Count of text reviews</th>\n",
       "    </tr>\n",
       "  </thead>\n",
       "  <tbody>\n",
       "    <tr>\n",
       "      <th>0</th>\n",
       "      <td>1900511</td>\n",
       "      <td>Barbarossa</td>\n",
       "      <td>Christopher Ailsby</td>\n",
       "      <td>1840138009</td>\n",
       "      <td>3.0</td>\n",
       "      <td>2007</td>\n",
       "      <td>4</td>\n",
       "      <td>1</td>\n",
       "      <td>New Line Books</td>\n",
       "      <td>5:0</td>\n",
       "      <td>...</td>\n",
       "      <td>3:1</td>\n",
       "      <td>2:0</td>\n",
       "      <td>1:0</td>\n",
       "      <td>total:1</td>\n",
       "      <td>0</td>\n",
       "      <td>NaN</td>\n",
       "      <td>192.0</td>\n",
       "      <td>On 22 June 1941, Adolf Hitler launched Operati...</td>\n",
       "      <td>NaN</td>\n",
       "      <td>NaN</td>\n",
       "    </tr>\n",
       "    <tr>\n",
       "      <th>1</th>\n",
       "      <td>1900512</td>\n",
       "      <td>Collector's Guide to German World War II: Comb...</td>\n",
       "      <td>Christopher Ailsby</td>\n",
       "      <td>0781802253</td>\n",
       "      <td>0.0</td>\n",
       "      <td>1994</td>\n",
       "      <td>7</td>\n",
       "      <td>1</td>\n",
       "      <td>Hippocrene Books</td>\n",
       "      <td>5:0</td>\n",
       "      <td>...</td>\n",
       "      <td>3:0</td>\n",
       "      <td>2:0</td>\n",
       "      <td>1:0</td>\n",
       "      <td>total:0</td>\n",
       "      <td>0</td>\n",
       "      <td>NaN</td>\n",
       "      <td>160.0</td>\n",
       "      <td>NaN</td>\n",
       "      <td>NaN</td>\n",
       "      <td>NaN</td>\n",
       "    </tr>\n",
       "    <tr>\n",
       "      <th>2</th>\n",
       "      <td>1900514</td>\n",
       "      <td>Images of Barbarossa</td>\n",
       "      <td>Christopher Ailsby</td>\n",
       "      <td>0711028257</td>\n",
       "      <td>3.5</td>\n",
       "      <td>2001</td>\n",
       "      <td>1</td>\n",
       "      <td>25</td>\n",
       "      <td>Ian Allan Ltd</td>\n",
       "      <td>5:0</td>\n",
       "      <td>...</td>\n",
       "      <td>3:2</td>\n",
       "      <td>2:1</td>\n",
       "      <td>1:0</td>\n",
       "      <td>total:8</td>\n",
       "      <td>0</td>\n",
       "      <td>NaN</td>\n",
       "      <td>256.0</td>\n",
       "      <td>On 22 June 1941, Adolf Hitler launched Operati...</td>\n",
       "      <td>NaN</td>\n",
       "      <td>NaN</td>\n",
       "    </tr>\n",
       "    <tr>\n",
       "      <th>3</th>\n",
       "      <td>1900520</td>\n",
       "      <td>Romania After 2000: Five New Romanian Plays</td>\n",
       "      <td>Daniel Charles Gerould</td>\n",
       "      <td>0595436560</td>\n",
       "      <td>4.0</td>\n",
       "      <td>2007</td>\n",
       "      <td>9</td>\n",
       "      <td>1</td>\n",
       "      <td>Martin E. Segal Theatre Center Publications</td>\n",
       "      <td>5:1</td>\n",
       "      <td>...</td>\n",
       "      <td>3:1</td>\n",
       "      <td>2:0</td>\n",
       "      <td>1:0</td>\n",
       "      <td>total:6</td>\n",
       "      <td>0</td>\n",
       "      <td>NaN</td>\n",
       "      <td>226.0</td>\n",
       "      <td>The first anthology of new Romanian Drama publ...</td>\n",
       "      <td>NaN</td>\n",
       "      <td>NaN</td>\n",
       "    </tr>\n",
       "    <tr>\n",
       "      <th>4</th>\n",
       "      <td>1900521</td>\n",
       "      <td>Global Foreigners: An Anthology of Plays</td>\n",
       "      <td>Saviana Stănescu</td>\n",
       "      <td>1905422423</td>\n",
       "      <td>4.6</td>\n",
       "      <td>2006</td>\n",
       "      <td>12</td>\n",
       "      <td>7</td>\n",
       "      <td>Seagull Books</td>\n",
       "      <td>5:4</td>\n",
       "      <td>...</td>\n",
       "      <td>3:1</td>\n",
       "      <td>2:0</td>\n",
       "      <td>1:0</td>\n",
       "      <td>total:5</td>\n",
       "      <td>0</td>\n",
       "      <td>NaN</td>\n",
       "      <td>320.0</td>\n",
       "      <td>In Waxing West, Daniella, newly arrived in the...</td>\n",
       "      <td>NaN</td>\n",
       "      <td>NaN</td>\n",
       "    </tr>\n",
       "  </tbody>\n",
       "</table>\n",
       "<p>5 rows × 21 columns</p>\n",
       "</div>"
      ],
      "text/plain": [
       "        Id                                               Name  \\\n",
       "0  1900511                                         Barbarossa   \n",
       "1  1900512  Collector's Guide to German World War II: Comb...   \n",
       "2  1900514                               Images of Barbarossa   \n",
       "3  1900520        Romania After 2000: Five New Romanian Plays   \n",
       "4  1900521           Global Foreigners: An Anthology of Plays   \n",
       "\n",
       "                  Authors        ISBN  Rating  PublishYear  PublishMonth  \\\n",
       "0      Christopher Ailsby  1840138009     3.0         2007             4   \n",
       "1      Christopher Ailsby  0781802253     0.0         1994             7   \n",
       "2      Christopher Ailsby  0711028257     3.5         2001             1   \n",
       "3  Daniel Charles Gerould  0595436560     4.0         2007             9   \n",
       "4        Saviana Stănescu  1905422423     4.6         2006            12   \n",
       "\n",
       "   PublishDay                                    Publisher RatingDist5  ...  \\\n",
       "0           1                               New Line Books         5:0  ...   \n",
       "1           1                             Hippocrene Books         5:0  ...   \n",
       "2          25                                Ian Allan Ltd         5:0  ...   \n",
       "3           1  Martin E. Segal Theatre Center Publications         5:1  ...   \n",
       "4           7                                Seagull Books         5:4  ...   \n",
       "\n",
       "  RatingDist3 RatingDist2 RatingDist1 RatingDistTotal CountsOfReview  \\\n",
       "0         3:1         2:0         1:0         total:1              0   \n",
       "1         3:0         2:0         1:0         total:0              0   \n",
       "2         3:2         2:1         1:0         total:8              0   \n",
       "3         3:1         2:0         1:0         total:6              0   \n",
       "4         3:1         2:0         1:0         total:5              0   \n",
       "\n",
       "   Language PagesNumber                                        Description  \\\n",
       "0       NaN       192.0  On 22 June 1941, Adolf Hitler launched Operati...   \n",
       "1       NaN       160.0                                                NaN   \n",
       "2       NaN       256.0  On 22 June 1941, Adolf Hitler launched Operati...   \n",
       "3       NaN       226.0  The first anthology of new Romanian Drama publ...   \n",
       "4       NaN       320.0  In Waxing West, Daniella, newly arrived in the...   \n",
       "\n",
       "  pagesNumber  Count of text reviews  \n",
       "0         NaN                    NaN  \n",
       "1         NaN                    NaN  \n",
       "2         NaN                    NaN  \n",
       "3         NaN                    NaN  \n",
       "4         NaN                    NaN  \n",
       "\n",
       "[5 rows x 21 columns]"
      ]
     },
     "execution_count": 71,
     "metadata": {},
     "output_type": "execute_result"
    }
   ],
   "source": [
    "df.head()"
   ]
  },
  {
   "cell_type": "code",
   "execution_count": 72,
   "id": "865acd07",
   "metadata": {},
   "outputs": [
    {
     "data": {
      "text/plain": [
       "130.1108856201172"
      ]
     },
     "execution_count": 72,
     "metadata": {},
     "output_type": "execute_result"
    }
   ],
   "source": [
    "df.memory_usage().sum()/1024**2"
   ]
  },
  {
   "cell_type": "code",
   "execution_count": 73,
   "id": "21041438",
   "metadata": {},
   "outputs": [
    {
     "data": {
      "text/plain": [
       "Index(['Id', 'Name', 'Authors', 'ISBN', 'Rating', 'PublishYear',\n",
       "       'PublishMonth', 'PublishDay', 'Publisher', 'RatingDist5', 'RatingDist4',\n",
       "       'RatingDist3', 'RatingDist2', 'RatingDist1', 'RatingDistTotal',\n",
       "       'CountsOfReview', 'Language', 'PagesNumber', 'Description',\n",
       "       'pagesNumber', 'Count of text reviews'],\n",
       "      dtype='object')"
      ]
     },
     "execution_count": 73,
     "metadata": {},
     "output_type": "execute_result"
    }
   ],
   "source": [
    "df.columns"
   ]
  },
  {
   "cell_type": "code",
   "execution_count": 74,
   "id": "2dd8afdd",
   "metadata": {},
   "outputs": [
    {
     "data": {
      "text/plain": [
       "count    2.967960e+05\n",
       "mean     2.796560e+02\n",
       "std      8.297538e+03\n",
       "min      0.000000e+00\n",
       "25%      1.440000e+02\n",
       "50%      2.360000e+02\n",
       "75%      3.340000e+02\n",
       "max      4.517845e+06\n",
       "Name: pagesNumber, dtype: float64"
      ]
     },
     "execution_count": 74,
     "metadata": {},
     "output_type": "execute_result"
    }
   ],
   "source": [
    "df['pagesNumber'].describe()"
   ]
  },
  {
   "cell_type": "code",
   "execution_count": 75,
   "id": "fbd39842",
   "metadata": {},
   "outputs": [
    {
     "data": {
      "text/plain": [
       "count    4.783810e+05\n",
       "mean     2.705894e+02\n",
       "std      6.539711e+03\n",
       "min      0.000000e+00\n",
       "25%      1.330000e+02\n",
       "50%      2.250000e+02\n",
       "75%      3.290000e+02\n",
       "max      4.517845e+06\n",
       "Name: PagesNumber, dtype: float64"
      ]
     },
     "execution_count": 75,
     "metadata": {},
     "output_type": "execute_result"
    }
   ],
   "source": [
    "df['PagesNumber'].describe()"
   ]
  },
  {
   "cell_type": "code",
   "execution_count": 76,
   "id": "f3a0854a",
   "metadata": {},
   "outputs": [
    {
     "data": {
      "text/plain": [
       "(581165, 21)"
      ]
     },
     "execution_count": 76,
     "metadata": {},
     "output_type": "execute_result"
    }
   ],
   "source": [
    "df = df.loc[(df['pagesNumber'] < 334) | (df['PagesNumber'] < 329)]\n",
    "df.shape"
   ]
  },
  {
   "cell_type": "code",
   "execution_count": 77,
   "id": "2900dc6b",
   "metadata": {},
   "outputs": [
    {
     "data": {
      "text/plain": [
       "(295902, 21)"
      ]
     },
     "execution_count": 77,
     "metadata": {},
     "output_type": "execute_result"
    }
   ],
   "source": [
    "df = df.loc[(df['PublishYear'] > 2000) & (df['PublishYear'] < 2020)]\n",
    "df.shape"
   ]
  },
  {
   "cell_type": "code",
   "execution_count": 78,
   "id": "8bad72bf",
   "metadata": {},
   "outputs": [
    {
     "data": {
      "text/plain": [
       "(295902, 6)"
      ]
     },
     "execution_count": 78,
     "metadata": {},
     "output_type": "execute_result"
    }
   ],
   "source": [
    "book_data = df[['Id', 'Name', 'Authors', 'ISBN', 'Rating', 'Description']]\n",
    "book_data.shape"
   ]
  },
  {
   "cell_type": "code",
   "execution_count": 79,
   "id": "84deb104",
   "metadata": {},
   "outputs": [
    {
     "data": {
      "text/html": [
       "<div>\n",
       "<style scoped>\n",
       "    .dataframe tbody tr th:only-of-type {\n",
       "        vertical-align: middle;\n",
       "    }\n",
       "\n",
       "    .dataframe tbody tr th {\n",
       "        vertical-align: top;\n",
       "    }\n",
       "\n",
       "    .dataframe thead th {\n",
       "        text-align: right;\n",
       "    }\n",
       "</style>\n",
       "<table border=\"1\" class=\"dataframe\">\n",
       "  <thead>\n",
       "    <tr style=\"text-align: right;\">\n",
       "      <th></th>\n",
       "      <th>Id</th>\n",
       "      <th>Name</th>\n",
       "      <th>Authors</th>\n",
       "      <th>ISBN</th>\n",
       "      <th>Rating</th>\n",
       "      <th>Description</th>\n",
       "    </tr>\n",
       "  </thead>\n",
       "  <tbody>\n",
       "    <tr>\n",
       "      <th>0</th>\n",
       "      <td>1900511</td>\n",
       "      <td>Barbarossa</td>\n",
       "      <td>Christopher Ailsby</td>\n",
       "      <td>1840138009</td>\n",
       "      <td>3.0</td>\n",
       "      <td>On 22 June 1941, Adolf Hitler launched Operati...</td>\n",
       "    </tr>\n",
       "    <tr>\n",
       "      <th>2</th>\n",
       "      <td>1900514</td>\n",
       "      <td>Images of Barbarossa</td>\n",
       "      <td>Christopher Ailsby</td>\n",
       "      <td>0711028257</td>\n",
       "      <td>3.5</td>\n",
       "      <td>On 22 June 1941, Adolf Hitler launched Operati...</td>\n",
       "    </tr>\n",
       "    <tr>\n",
       "      <th>3</th>\n",
       "      <td>1900520</td>\n",
       "      <td>Romania After 2000: Five New Romanian Plays</td>\n",
       "      <td>Daniel Charles Gerould</td>\n",
       "      <td>0595436560</td>\n",
       "      <td>4.0</td>\n",
       "      <td>The first anthology of new Romanian Drama publ...</td>\n",
       "    </tr>\n",
       "    <tr>\n",
       "      <th>4</th>\n",
       "      <td>1900521</td>\n",
       "      <td>Global Foreigners: An Anthology of Plays</td>\n",
       "      <td>Saviana Stănescu</td>\n",
       "      <td>1905422423</td>\n",
       "      <td>4.6</td>\n",
       "      <td>In Waxing West, Daniella, newly arrived in the...</td>\n",
       "    </tr>\n",
       "    <tr>\n",
       "      <th>5</th>\n",
       "      <td>1900525</td>\n",
       "      <td>Diary of a Clone</td>\n",
       "      <td>Saviana Stănescu</td>\n",
       "      <td>092338961X</td>\n",
       "      <td>4.8</td>\n",
       "      <td>Poetry. Translation. DIARY OF A CLONE is a sma...</td>\n",
       "    </tr>\n",
       "  </tbody>\n",
       "</table>\n",
       "</div>"
      ],
      "text/plain": [
       "        Id                                         Name  \\\n",
       "0  1900511                                   Barbarossa   \n",
       "2  1900514                         Images of Barbarossa   \n",
       "3  1900520  Romania After 2000: Five New Romanian Plays   \n",
       "4  1900521     Global Foreigners: An Anthology of Plays   \n",
       "5  1900525                             Diary of a Clone   \n",
       "\n",
       "                  Authors        ISBN  Rating  \\\n",
       "0      Christopher Ailsby  1840138009     3.0   \n",
       "2      Christopher Ailsby  0711028257     3.5   \n",
       "3  Daniel Charles Gerould  0595436560     4.0   \n",
       "4        Saviana Stănescu  1905422423     4.6   \n",
       "5        Saviana Stănescu  092338961X     4.8   \n",
       "\n",
       "                                         Description  \n",
       "0  On 22 June 1941, Adolf Hitler launched Operati...  \n",
       "2  On 22 June 1941, Adolf Hitler launched Operati...  \n",
       "3  The first anthology of new Romanian Drama publ...  \n",
       "4  In Waxing West, Daniella, newly arrived in the...  \n",
       "5  Poetry. Translation. DIARY OF A CLONE is a sma...  "
      ]
     },
     "execution_count": 79,
     "metadata": {},
     "output_type": "execute_result"
    }
   ],
   "source": [
    "book_data.head()"
   ]
  },
  {
   "cell_type": "code",
   "execution_count": 4,
   "id": "c7936ddf",
   "metadata": {},
   "outputs": [
    {
     "name": "stdout",
     "output_type": "stream",
     "text": [
      "(42986, 3)\n",
      "(30633, 3)\n",
      "(46970, 3)\n",
      "(46903, 3)\n",
      "(127678, 3)\n",
      "-----------\n",
      "(295170, 3)\n",
      "-----------\n"
     ]
    }
   ],
   "source": [
    "user_rating_0_to_1000 = pd.read_csv(\"Dataset/User_rating/user_rating_0_to_1000.csv\")\n",
    "user_rating_1000_to_2000 = pd.read_csv(\"Dataset/User_rating/user_rating_1000_to_2000.csv\")\n",
    "user_rating_2000_to_3000 = pd.read_csv(\"Dataset/User_rating/user_rating_2000_to_3000.csv\")\n",
    "user_rating_3000_to_4000 = pd.read_csv(\"Dataset/User_rating/user_rating_3000_to_4000.csv\")\n",
    "user_rating_4000_to_5000 = pd.read_csv(\"Dataset/User_rating/user_rating_4000_to_5000.csv\")\n",
    "user_rating_6000_to_11000 = pd.read_csv(\"Dataset/User_rating/user_rating_6000_to_11000.csv\")\n",
    "\n",
    "print(user_rating_1000_to_2000.shape)\n",
    "print(user_rating_2000_to_3000.shape)\n",
    "print(user_rating_3000_to_4000.shape)\n",
    "print(user_rating_4000_to_5000.shape)\n",
    "print(user_rating_6000_to_11000.shape)\n",
    "\n",
    "user_rating = pd.concat([user_rating_1000_to_2000, user_rating_2000_to_3000, user_rating_3000_to_4000, user_rating_4000_to_5000, user_rating_6000_to_11000])\n",
    "\n",
    "print(\"-----------\")\n",
    "print(user_rating.shape)\n",
    "print(\"-----------\")\n"
   ]
  },
  {
   "cell_type": "markdown",
   "id": "d298832c",
   "metadata": {},
   "source": [
    "## Data Cleaning"
   ]
  },
  {
   "cell_type": "code",
   "execution_count": 81,
   "id": "d18a1870",
   "metadata": {},
   "outputs": [
    {
     "name": "stdout",
     "output_type": "stream",
     "text": [
      "We have 1036 duplicate books according to their ISBN number\n"
     ]
    }
   ],
   "source": [
    "len(book_data[\"ISBN\"].unique())\n",
    "print(f\"We have {book_data.shape[0] - len(book_data.ISBN.unique())} duplicate books according to their ISBN number\")"
   ]
  },
  {
   "cell_type": "code",
   "execution_count": 82,
   "id": "125fef5c",
   "metadata": {},
   "outputs": [
    {
     "name": "stderr",
     "output_type": "stream",
     "text": [
      "/var/folders/tz/3f4706312hg_4czj7swryz800000gn/T/ipykernel_10711/2764435279.py:1: SettingWithCopyWarning: \n",
      "A value is trying to be set on a copy of a slice from a DataFrame\n",
      "\n",
      "See the caveats in the documentation: https://pandas.pydata.org/pandas-docs/stable/user_guide/indexing.html#returning-a-view-versus-a-copy\n",
      "  book_data.drop_duplicates(subset =[\"ISBN\"], inplace = True)\n"
     ]
    },
    {
     "data": {
      "text/plain": [
       "294866"
      ]
     },
     "execution_count": 82,
     "metadata": {},
     "output_type": "execute_result"
    }
   ],
   "source": [
    "book_data.drop_duplicates(subset =[\"ISBN\"], inplace = True)\n",
    "len(book_data.ISBN.unique()) #Should be close to 772855"
   ]
  },
  {
   "cell_type": "code",
   "execution_count": 83,
   "id": "189c2097",
   "metadata": {},
   "outputs": [
    {
     "data": {
      "text/plain": [
       "Id                 0\n",
       "Name               0\n",
       "Authors            0\n",
       "ISBN               1\n",
       "Rating             0\n",
       "Description    33482\n",
       "dtype: int64"
      ]
     },
     "execution_count": 83,
     "metadata": {},
     "output_type": "execute_result"
    }
   ],
   "source": [
    "book_data.isna().sum()"
   ]
  },
  {
   "cell_type": "code",
   "execution_count": 84,
   "id": "bb4c2b70",
   "metadata": {},
   "outputs": [
    {
     "name": "stderr",
     "output_type": "stream",
     "text": [
      "/var/folders/tz/3f4706312hg_4czj7swryz800000gn/T/ipykernel_10711/271378893.py:2: SettingWithCopyWarning: \n",
      "A value is trying to be set on a copy of a slice from a DataFrame\n",
      "\n",
      "See the caveats in the documentation: https://pandas.pydata.org/pandas-docs/stable/user_guide/indexing.html#returning-a-view-versus-a-copy\n",
      "  book_data['Description'].fillna(book_data['Name'], inplace = True)\n"
     ]
    }
   ],
   "source": [
    "book_data = book_data.dropna(subset = ['ISBN'])\n",
    "book_data['Description'].fillna(book_data['Name'], inplace = True)"
   ]
  },
  {
   "cell_type": "code",
   "execution_count": 85,
   "id": "8a91df0f",
   "metadata": {},
   "outputs": [
    {
     "name": "stdout",
     "output_type": "stream",
     "text": [
      "Id             0\n",
      "Name           0\n",
      "Authors        0\n",
      "ISBN           0\n",
      "Rating         0\n",
      "Description    0\n",
      "dtype: int64\n",
      "(294865, 6)\n"
     ]
    }
   ],
   "source": [
    "print(book_data.isna().sum())\n",
    "print(book_data.shape)"
   ]
  },
  {
   "cell_type": "code",
   "execution_count": 86,
   "id": "4a93ba27",
   "metadata": {},
   "outputs": [
    {
     "data": {
      "text/plain": [
       "Beowulf                            6\n",
       "Coraline                           6\n",
       "Orthodoxy                          5\n",
       "Dogs                               5\n",
       "Kidnapped                          5\n",
       "Rapture                            5\n",
       "Abraham Lincoln                    5\n",
       "Frank Lloyd Wright                 5\n",
       "Winston Churchill                  5\n",
       "Shelter from the Storm             5\n",
       "Sisters                            5\n",
       "The Changeling                     5\n",
       "Stardust                           4\n",
       "Independence Day                   4\n",
       "Ancient Rome                       4\n",
       "Cleopatra                          4\n",
       "Twilight                           4\n",
       "Siddhartha                         4\n",
       "Antigone                           4\n",
       "Sharks                             4\n",
       "Heartland                          4\n",
       "Knitting                           4\n",
       "The Dark Room                      4\n",
       "Tiger                              4\n",
       "Echo                               4\n",
       "The Outlaw of Torn                 4\n",
       "Salt                               4\n",
       "Apples                             4\n",
       "Tarzan of the Apes (Tarzan, #1)    4\n",
       "Wanted                             4\n",
       "Name: Name, dtype: int64"
      ]
     },
     "execution_count": 86,
     "metadata": {},
     "output_type": "execute_result"
    }
   ],
   "source": [
    "book_data.Name.value_counts()[:30]"
   ]
  },
  {
   "cell_type": "code",
   "execution_count": 87,
   "id": "15b72b3d",
   "metadata": {},
   "outputs": [
    {
     "data": {
      "text/plain": [
       "Dogs                         5\n",
       "Abraham Lincoln              5\n",
       "Rapture                      5\n",
       "Winston Churchill            5\n",
       "Frank Lloyd Wright           5\n",
       "Colors                       4\n",
       "Oceans                       4\n",
       "Benjamin Franklin            4\n",
       "On the Edge                  4\n",
       "Desire                       4\n",
       "Apples                       4\n",
       "Frida Kahlo                  4\n",
       "The Messenger                4\n",
       "If                           4\n",
       "The Little Mermaid           4\n",
       "Cleopatra                    4\n",
       "Hansel and Gretel            4\n",
       "A Midsummer Night's Dream    4\n",
       "Shelter from the Storm       4\n",
       "Sharks                       4\n",
       "China                        4\n",
       "Sanctuary                    4\n",
       "Tiger                        4\n",
       "Pearl Harbor                 4\n",
       "Sisters                      4\n",
       "Hurricanes                   4\n",
       "When I Grow Up               4\n",
       "Lost and Found               4\n",
       "Fish                         4\n",
       "Out of Order                 4\n",
       "Name: Name, dtype: int64"
      ]
     },
     "execution_count": 87,
     "metadata": {},
     "output_type": "execute_result"
    }
   ],
   "source": [
    "book_data.drop_duplicates(subset=[\"Authors\", \"Name\"], inplace = True)\n",
    "book_data.Name.value_counts()[:30]"
   ]
  },
  {
   "cell_type": "code",
   "execution_count": 88,
   "id": "ce5d795d",
   "metadata": {},
   "outputs": [],
   "source": [
    "CLEANR = re.compile('<.*?>|&([a-z0-9]+|#[0-9]{1,6}|#x[0-9a-f]{1,6});') \n",
    "\n",
    "def remove_html(html_text): #Referrenced from stackoverflow: https://stackoverflow.com/questions/9662346/python-code-to-remove-html-tags-from-a-string\n",
    "    cleantext = re.sub(CLEANR, '', html_text)\n",
    "    return cleantext"
   ]
  },
  {
   "cell_type": "code",
   "execution_count": 89,
   "id": "62138790",
   "metadata": {},
   "outputs": [],
   "source": [
    "book_data['Description'] = book_data.Description.apply(remove_html)"
   ]
  },
  {
   "cell_type": "code",
   "execution_count": 90,
   "id": "eaa73e58",
   "metadata": {},
   "outputs": [],
   "source": [
    "book_data['Description'] = book_data['Description'].str.lower()"
   ]
  },
  {
   "cell_type": "code",
   "execution_count": 91,
   "id": "ee85b5a7",
   "metadata": {},
   "outputs": [],
   "source": [
    "#stopwords = nltk.corpus.stopwords.words(\"english\")"
   ]
  },
  {
   "cell_type": "code",
   "execution_count": 93,
   "id": "c41129fd",
   "metadata": {
    "scrolled": false
   },
   "outputs": [
    {
     "data": {
      "text/html": [
       "<div>\n",
       "<style scoped>\n",
       "    .dataframe tbody tr th:only-of-type {\n",
       "        vertical-align: middle;\n",
       "    }\n",
       "\n",
       "    .dataframe tbody tr th {\n",
       "        vertical-align: top;\n",
       "    }\n",
       "\n",
       "    .dataframe thead th {\n",
       "        text-align: right;\n",
       "    }\n",
       "</style>\n",
       "<table border=\"1\" class=\"dataframe\">\n",
       "  <thead>\n",
       "    <tr style=\"text-align: right;\">\n",
       "      <th></th>\n",
       "      <th>Id</th>\n",
       "      <th>Name</th>\n",
       "      <th>Authors</th>\n",
       "      <th>ISBN</th>\n",
       "      <th>Rating</th>\n",
       "      <th>Description</th>\n",
       "    </tr>\n",
       "  </thead>\n",
       "  <tbody>\n",
       "    <tr>\n",
       "      <th>0</th>\n",
       "      <td>1900511</td>\n",
       "      <td>Barbarossa</td>\n",
       "      <td>Christopher Ailsby</td>\n",
       "      <td>1840138009</td>\n",
       "      <td>3.0</td>\n",
       "      <td>on 22 june 1941, adolf hitler launched operati...</td>\n",
       "    </tr>\n",
       "    <tr>\n",
       "      <th>2</th>\n",
       "      <td>1900514</td>\n",
       "      <td>Images of Barbarossa</td>\n",
       "      <td>Christopher Ailsby</td>\n",
       "      <td>0711028257</td>\n",
       "      <td>3.5</td>\n",
       "      <td>on 22 june 1941, adolf hitler launched operati...</td>\n",
       "    </tr>\n",
       "    <tr>\n",
       "      <th>3</th>\n",
       "      <td>1900520</td>\n",
       "      <td>Romania After 2000: Five New Romanian Plays</td>\n",
       "      <td>Daniel Charles Gerould</td>\n",
       "      <td>0595436560</td>\n",
       "      <td>4.0</td>\n",
       "      <td>the first anthology of new romanian drama publ...</td>\n",
       "    </tr>\n",
       "    <tr>\n",
       "      <th>4</th>\n",
       "      <td>1900521</td>\n",
       "      <td>Global Foreigners: An Anthology of Plays</td>\n",
       "      <td>Saviana Stănescu</td>\n",
       "      <td>1905422423</td>\n",
       "      <td>4.6</td>\n",
       "      <td>in waxing west, daniella, newly arrived in the...</td>\n",
       "    </tr>\n",
       "    <tr>\n",
       "      <th>5</th>\n",
       "      <td>1900525</td>\n",
       "      <td>Diary of a Clone</td>\n",
       "      <td>Saviana Stănescu</td>\n",
       "      <td>092338961X</td>\n",
       "      <td>4.8</td>\n",
       "      <td>poetry. translation. diary of a clone is a sma...</td>\n",
       "    </tr>\n",
       "  </tbody>\n",
       "</table>\n",
       "</div>"
      ],
      "text/plain": [
       "        Id                                         Name  \\\n",
       "0  1900511                                   Barbarossa   \n",
       "2  1900514                         Images of Barbarossa   \n",
       "3  1900520  Romania After 2000: Five New Romanian Plays   \n",
       "4  1900521     Global Foreigners: An Anthology of Plays   \n",
       "5  1900525                             Diary of a Clone   \n",
       "\n",
       "                  Authors        ISBN  Rating  \\\n",
       "0      Christopher Ailsby  1840138009     3.0   \n",
       "2      Christopher Ailsby  0711028257     3.5   \n",
       "3  Daniel Charles Gerould  0595436560     4.0   \n",
       "4        Saviana Stănescu  1905422423     4.6   \n",
       "5        Saviana Stănescu  092338961X     4.8   \n",
       "\n",
       "                                         Description  \n",
       "0  on 22 june 1941, adolf hitler launched operati...  \n",
       "2  on 22 june 1941, adolf hitler launched operati...  \n",
       "3  the first anthology of new romanian drama publ...  \n",
       "4  in waxing west, daniella, newly arrived in the...  \n",
       "5  poetry. translation. diary of a clone is a sma...  "
      ]
     },
     "execution_count": 93,
     "metadata": {},
     "output_type": "execute_result"
    }
   ],
   "source": [
    "book_data.head()"
   ]
  },
  {
   "cell_type": "code",
   "execution_count": 94,
   "id": "cb6c69e4",
   "metadata": {},
   "outputs": [
    {
     "data": {
      "text/plain": [
       "(289078, 6)"
      ]
     },
     "execution_count": 94,
     "metadata": {},
     "output_type": "execute_result"
    }
   ],
   "source": [
    "book_data.shape"
   ]
  },
  {
   "cell_type": "code",
   "execution_count": 95,
   "id": "f1347403",
   "metadata": {},
   "outputs": [
    {
     "data": {
      "text/plain": [
       "(229273, 6)"
      ]
     },
     "execution_count": 95,
     "metadata": {},
     "output_type": "execute_result"
    }
   ],
   "source": [
    "book_data = book_data[book_data['Rating'] > 2.0]\n",
    "book_data.shape"
   ]
  },
  {
   "cell_type": "code",
   "execution_count": 96,
   "id": "11b462ac",
   "metadata": {},
   "outputs": [],
   "source": [
    "#count = book_data[book_data['Description'].str.len() > 1000].sum()\n",
    "#print(count)"
   ]
  },
  {
   "cell_type": "code",
   "execution_count": 97,
   "id": "3c35b0d1",
   "metadata": {},
   "outputs": [
    {
     "name": "stdout",
     "output_type": "stream",
     "text": [
      "75885\n"
     ]
    }
   ],
   "source": [
    "def count_rows(row):\n",
    "    if len(row['Description']) > 500 and (len(row['Description'])) < 1000:\n",
    "        return 1\n",
    "    else:\n",
    "        return 0\n",
    "\n",
    "count = book_data.apply(count_rows, axis = 1).sum()\n",
    "print(count)"
   ]
  },
  {
   "cell_type": "code",
   "execution_count": 98,
   "id": "28cd3d4e",
   "metadata": {},
   "outputs": [
    {
     "data": {
      "text/plain": [
       "(75885, 6)"
      ]
     },
     "execution_count": 98,
     "metadata": {},
     "output_type": "execute_result"
    }
   ],
   "source": [
    "book_data = book_data.loc[(book_data['Description'].str.len() > 500) & (book_data['Description'].str.len() < 1000)]\n",
    "book_data.shape"
   ]
  },
  {
   "cell_type": "code",
   "execution_count": 99,
   "id": "09547d5e",
   "metadata": {},
   "outputs": [],
   "source": [
    "book_data.drop_duplicates(subset=[\"Authors\"], inplace = True)"
   ]
  },
  {
   "cell_type": "code",
   "execution_count": 100,
   "id": "a9e2feeb",
   "metadata": {},
   "outputs": [
    {
     "data": {
      "text/plain": [
       "(54310, 6)"
      ]
     },
     "execution_count": 100,
     "metadata": {},
     "output_type": "execute_result"
    }
   ],
   "source": [
    "book_data.shape"
   ]
  },
  {
   "cell_type": "code",
   "execution_count": 101,
   "id": "02580cd0",
   "metadata": {},
   "outputs": [
    {
     "data": {
      "text/html": [
       "<div>\n",
       "<style scoped>\n",
       "    .dataframe tbody tr th:only-of-type {\n",
       "        vertical-align: middle;\n",
       "    }\n",
       "\n",
       "    .dataframe tbody tr th {\n",
       "        vertical-align: top;\n",
       "    }\n",
       "\n",
       "    .dataframe thead th {\n",
       "        text-align: right;\n",
       "    }\n",
       "</style>\n",
       "<table border=\"1\" class=\"dataframe\">\n",
       "  <thead>\n",
       "    <tr style=\"text-align: right;\">\n",
       "      <th></th>\n",
       "      <th>Id</th>\n",
       "      <th>Name</th>\n",
       "      <th>Authors</th>\n",
       "      <th>ISBN</th>\n",
       "      <th>Rating</th>\n",
       "      <th>Description</th>\n",
       "    </tr>\n",
       "  </thead>\n",
       "  <tbody>\n",
       "    <tr>\n",
       "      <th>0</th>\n",
       "      <td>1900511</td>\n",
       "      <td>Barbarossa</td>\n",
       "      <td>Christopher Ailsby</td>\n",
       "      <td>1840138009</td>\n",
       "      <td>3.00</td>\n",
       "      <td>on 22 june 1941, adolf hitler launched operati...</td>\n",
       "    </tr>\n",
       "    <tr>\n",
       "      <th>4</th>\n",
       "      <td>1900521</td>\n",
       "      <td>Global Foreigners: An Anthology of Plays</td>\n",
       "      <td>Saviana Stănescu</td>\n",
       "      <td>1905422423</td>\n",
       "      <td>4.60</td>\n",
       "      <td>in waxing west, daniella, newly arrived in the...</td>\n",
       "    </tr>\n",
       "    <tr>\n",
       "      <th>12</th>\n",
       "      <td>1900573</td>\n",
       "      <td>From the Earth to the Moon; And, Round the Moon</td>\n",
       "      <td>Jules Verne</td>\n",
       "      <td>1406554227</td>\n",
       "      <td>3.84</td>\n",
       "      <td>jules gabriel verne (1828-1905) was a french a...</td>\n",
       "    </tr>\n",
       "    <tr>\n",
       "      <th>14</th>\n",
       "      <td>1900575</td>\n",
       "      <td>Risky Business (Air Force #2)</td>\n",
       "      <td>Merline Lovelace</td>\n",
       "      <td>0373881495</td>\n",
       "      <td>3.71</td>\n",
       "      <td>from career womanto camp fire girl? as regiona...</td>\n",
       "    </tr>\n",
       "    <tr>\n",
       "      <th>17</th>\n",
       "      <td>1900580</td>\n",
       "      <td>Complete Kitchens: Plan &amp; Build Your Dream Kit...</td>\n",
       "      <td>Better Homes and Gardens</td>\n",
       "      <td>0696213478</td>\n",
       "      <td>3.50</td>\n",
       "      <td>this is your guide to making your dream kitche...</td>\n",
       "    </tr>\n",
       "  </tbody>\n",
       "</table>\n",
       "</div>"
      ],
      "text/plain": [
       "         Id                                               Name  \\\n",
       "0   1900511                                         Barbarossa   \n",
       "4   1900521           Global Foreigners: An Anthology of Plays   \n",
       "12  1900573    From the Earth to the Moon; And, Round the Moon   \n",
       "14  1900575                      Risky Business (Air Force #2)   \n",
       "17  1900580  Complete Kitchens: Plan & Build Your Dream Kit...   \n",
       "\n",
       "                     Authors        ISBN  Rating  \\\n",
       "0         Christopher Ailsby  1840138009    3.00   \n",
       "4           Saviana Stănescu  1905422423    4.60   \n",
       "12               Jules Verne  1406554227    3.84   \n",
       "14          Merline Lovelace  0373881495    3.71   \n",
       "17  Better Homes and Gardens  0696213478    3.50   \n",
       "\n",
       "                                          Description  \n",
       "0   on 22 june 1941, adolf hitler launched operati...  \n",
       "4   in waxing west, daniella, newly arrived in the...  \n",
       "12  jules gabriel verne (1828-1905) was a french a...  \n",
       "14  from career womanto camp fire girl? as regiona...  \n",
       "17  this is your guide to making your dream kitche...  "
      ]
     },
     "execution_count": 101,
     "metadata": {},
     "output_type": "execute_result"
    }
   ],
   "source": [
    "book_data.head()"
   ]
  },
  {
   "cell_type": "code",
   "execution_count": 9,
   "id": "213c00bd",
   "metadata": {},
   "outputs": [
    {
     "data": {
      "text/plain": [
       "array([\"This user doesn't have any rating\", 'really liked it', 'liked it',\n",
       "       'it was amazing', 'it was ok', 'did not like it'], dtype=object)"
      ]
     },
     "execution_count": 9,
     "metadata": {},
     "output_type": "execute_result"
    }
   ],
   "source": [
    "user_rating.Rating.unique()"
   ]
  },
  {
   "cell_type": "code",
   "execution_count": 10,
   "id": "60bfd1e2",
   "metadata": {},
   "outputs": [
    {
     "data": {
      "text/plain": [
       "(295170, 3)"
      ]
     },
     "execution_count": 10,
     "metadata": {},
     "output_type": "execute_result"
    }
   ],
   "source": [
    "user_rating.shape"
   ]
  },
  {
   "cell_type": "code",
   "execution_count": 11,
   "id": "d2b8ebb5",
   "metadata": {},
   "outputs": [],
   "source": [
    "user_rating = user_rating[user_rating['Rating'] != \"This user doesn't have any rating\"]"
   ]
  },
  {
   "cell_type": "code",
   "execution_count": 12,
   "id": "9cdbbbd5",
   "metadata": {},
   "outputs": [
    {
     "data": {
      "text/plain": [
       "(291039, 3)"
      ]
     },
     "execution_count": 12,
     "metadata": {},
     "output_type": "execute_result"
    }
   ],
   "source": [
    "user_rating.shape"
   ]
  },
  {
   "cell_type": "code",
   "execution_count": 13,
   "id": "048aab2a",
   "metadata": {},
   "outputs": [
    {
     "data": {
      "text/plain": [
       "array([ 1004,  1006,  1059, ..., 10597, 10665, 10879])"
      ]
     },
     "execution_count": 13,
     "metadata": {},
     "output_type": "execute_result"
    }
   ],
   "source": [
    "user_rating.ID.unique()"
   ]
  },
  {
   "cell_type": "code",
   "execution_count": 14,
   "id": "d3feff32",
   "metadata": {},
   "outputs": [
    {
     "data": {
      "text/html": [
       "<div>\n",
       "<style scoped>\n",
       "    .dataframe tbody tr th:only-of-type {\n",
       "        vertical-align: middle;\n",
       "    }\n",
       "\n",
       "    .dataframe tbody tr th {\n",
       "        vertical-align: top;\n",
       "    }\n",
       "\n",
       "    .dataframe thead th {\n",
       "        text-align: right;\n",
       "    }\n",
       "</style>\n",
       "<table border=\"1\" class=\"dataframe\">\n",
       "  <thead>\n",
       "    <tr style=\"text-align: right;\">\n",
       "      <th></th>\n",
       "      <th>ID</th>\n",
       "      <th>Name</th>\n",
       "      <th>Rating</th>\n",
       "    </tr>\n",
       "  </thead>\n",
       "  <tbody>\n",
       "    <tr>\n",
       "      <th>524</th>\n",
       "      <td>1059</td>\n",
       "      <td>Of Mice and Men</td>\n",
       "      <td>liked it</td>\n",
       "    </tr>\n",
       "    <tr>\n",
       "      <th>564</th>\n",
       "      <td>1059</td>\n",
       "      <td>The Da Vinci Code (Robert Langdon, #2)</td>\n",
       "      <td>did not like it</td>\n",
       "    </tr>\n",
       "    <tr>\n",
       "      <th>644</th>\n",
       "      <td>1059</td>\n",
       "      <td>Memoirs of a Geisha</td>\n",
       "      <td>did not like it</td>\n",
       "    </tr>\n",
       "    <tr>\n",
       "      <th>826</th>\n",
       "      <td>1059</td>\n",
       "      <td>Harry Potter and the Order of the Phoenix (Har...</td>\n",
       "      <td>really liked it</td>\n",
       "    </tr>\n",
       "    <tr>\n",
       "      <th>1499</th>\n",
       "      <td>1059</td>\n",
       "      <td>Eat, Pray, Love</td>\n",
       "      <td>it was ok</td>\n",
       "    </tr>\n",
       "    <tr>\n",
       "      <th>1701</th>\n",
       "      <td>1059</td>\n",
       "      <td>Harry Potter and the Deathly Hallows (Harry Po...</td>\n",
       "      <td>really liked it</td>\n",
       "    </tr>\n",
       "    <tr>\n",
       "      <th>2132</th>\n",
       "      <td>1059</td>\n",
       "      <td>Middlesex</td>\n",
       "      <td>did not like it</td>\n",
       "    </tr>\n",
       "    <tr>\n",
       "      <th>2188</th>\n",
       "      <td>1059</td>\n",
       "      <td>Animal Farm</td>\n",
       "      <td>it was ok</td>\n",
       "    </tr>\n",
       "    <tr>\n",
       "      <th>2639</th>\n",
       "      <td>1059</td>\n",
       "      <td>Harry Potter and the Prisoner of Azkaban (Harr...</td>\n",
       "      <td>really liked it</td>\n",
       "    </tr>\n",
       "    <tr>\n",
       "      <th>2704</th>\n",
       "      <td>1059</td>\n",
       "      <td>Harry Potter and the Half-Blood Prince (Harry ...</td>\n",
       "      <td>really liked it</td>\n",
       "    </tr>\n",
       "    <tr>\n",
       "      <th>2762</th>\n",
       "      <td>1059</td>\n",
       "      <td>Harry Potter and the Goblet of Fire (Harry Pot...</td>\n",
       "      <td>really liked it</td>\n",
       "    </tr>\n",
       "    <tr>\n",
       "      <th>2821</th>\n",
       "      <td>1059</td>\n",
       "      <td>To Kill a Mockingbird</td>\n",
       "      <td>liked it</td>\n",
       "    </tr>\n",
       "    <tr>\n",
       "      <th>2930</th>\n",
       "      <td>1059</td>\n",
       "      <td>The Great Gatsby</td>\n",
       "      <td>it was ok</td>\n",
       "    </tr>\n",
       "    <tr>\n",
       "      <th>2997</th>\n",
       "      <td>1059</td>\n",
       "      <td>Harry Potter and the Sorcerer's Stone (Harry P...</td>\n",
       "      <td>really liked it</td>\n",
       "    </tr>\n",
       "    <tr>\n",
       "      <th>3069</th>\n",
       "      <td>1059</td>\n",
       "      <td>The Catcher in the Rye</td>\n",
       "      <td>it was ok</td>\n",
       "    </tr>\n",
       "    <tr>\n",
       "      <th>3742</th>\n",
       "      <td>1059</td>\n",
       "      <td>The Hitchhiker's Guide to the Galaxy (Hitchhik...</td>\n",
       "      <td>really liked it</td>\n",
       "    </tr>\n",
       "    <tr>\n",
       "      <th>3762</th>\n",
       "      <td>1059</td>\n",
       "      <td>Harry Potter and the Chamber of Secrets (Harry...</td>\n",
       "      <td>really liked it</td>\n",
       "    </tr>\n",
       "    <tr>\n",
       "      <th>4046</th>\n",
       "      <td>1059</td>\n",
       "      <td>The Giving Tree</td>\n",
       "      <td>really liked it</td>\n",
       "    </tr>\n",
       "    <tr>\n",
       "      <th>4245</th>\n",
       "      <td>1059</td>\n",
       "      <td>One Hundred Years of Solitude</td>\n",
       "      <td>did not like it</td>\n",
       "    </tr>\n",
       "    <tr>\n",
       "      <th>4930</th>\n",
       "      <td>1059</td>\n",
       "      <td>Water for Elephants</td>\n",
       "      <td>liked it</td>\n",
       "    </tr>\n",
       "    <tr>\n",
       "      <th>5139</th>\n",
       "      <td>1059</td>\n",
       "      <td>Into the Wild</td>\n",
       "      <td>really liked it</td>\n",
       "    </tr>\n",
       "    <tr>\n",
       "      <th>5539</th>\n",
       "      <td>1059</td>\n",
       "      <td>The Memory Keeper's Daughter</td>\n",
       "      <td>did not like it</td>\n",
       "    </tr>\n",
       "    <tr>\n",
       "      <th>6422</th>\n",
       "      <td>1059</td>\n",
       "      <td>Outlander (Outlander, #1)</td>\n",
       "      <td>liked it</td>\n",
       "    </tr>\n",
       "    <tr>\n",
       "      <th>6443</th>\n",
       "      <td>1059</td>\n",
       "      <td>Jurassic Park (Jurassic Park, #1)</td>\n",
       "      <td>it was ok</td>\n",
       "    </tr>\n",
       "    <tr>\n",
       "      <th>6660</th>\n",
       "      <td>1059</td>\n",
       "      <td>The Hobbit, or There and Back Again</td>\n",
       "      <td>did not like it</td>\n",
       "    </tr>\n",
       "    <tr>\n",
       "      <th>6683</th>\n",
       "      <td>1059</td>\n",
       "      <td>Les Misérables</td>\n",
       "      <td>really liked it</td>\n",
       "    </tr>\n",
       "    <tr>\n",
       "      <th>7196</th>\n",
       "      <td>1059</td>\n",
       "      <td>The Adventures of Huckleberry Finn</td>\n",
       "      <td>liked it</td>\n",
       "    </tr>\n",
       "    <tr>\n",
       "      <th>7535</th>\n",
       "      <td>1059</td>\n",
       "      <td>Ender's Game (Ender's Saga, #1)</td>\n",
       "      <td>did not like it</td>\n",
       "    </tr>\n",
       "    <tr>\n",
       "      <th>7727</th>\n",
       "      <td>1059</td>\n",
       "      <td>The Golden Compass (His Dark Materials, #1)</td>\n",
       "      <td>liked it</td>\n",
       "    </tr>\n",
       "    <tr>\n",
       "      <th>8726</th>\n",
       "      <td>1059</td>\n",
       "      <td>Wicked: The Life and Times of the Wicked Witch...</td>\n",
       "      <td>did not like it</td>\n",
       "    </tr>\n",
       "    <tr>\n",
       "      <th>8737</th>\n",
       "      <td>1059</td>\n",
       "      <td>The Curious Incident of the Dog in the Night-Time</td>\n",
       "      <td>did not like it</td>\n",
       "    </tr>\n",
       "    <tr>\n",
       "      <th>8773</th>\n",
       "      <td>1059</td>\n",
       "      <td>Fahrenheit 451</td>\n",
       "      <td>did not like it</td>\n",
       "    </tr>\n",
       "    <tr>\n",
       "      <th>8804</th>\n",
       "      <td>1059</td>\n",
       "      <td>The Time Traveler's Wife</td>\n",
       "      <td>liked it</td>\n",
       "    </tr>\n",
       "    <tr>\n",
       "      <th>8835</th>\n",
       "      <td>1059</td>\n",
       "      <td>Into Thin Air: A Personal Account of the Mount...</td>\n",
       "      <td>really liked it</td>\n",
       "    </tr>\n",
       "    <tr>\n",
       "      <th>8845</th>\n",
       "      <td>1059</td>\n",
       "      <td>The Hunt for Red October (Jack Ryan, #3)</td>\n",
       "      <td>it was ok</td>\n",
       "    </tr>\n",
       "    <tr>\n",
       "      <th>8847</th>\n",
       "      <td>1059</td>\n",
       "      <td>A Time to Kill (Jake Brigance, #1)</td>\n",
       "      <td>it was ok</td>\n",
       "    </tr>\n",
       "    <tr>\n",
       "      <th>8855</th>\n",
       "      <td>1059</td>\n",
       "      <td>The Shining</td>\n",
       "      <td>did not like it</td>\n",
       "    </tr>\n",
       "    <tr>\n",
       "      <th>8869</th>\n",
       "      <td>1059</td>\n",
       "      <td>Moby-Dick or, the Whale</td>\n",
       "      <td>it was ok</td>\n",
       "    </tr>\n",
       "    <tr>\n",
       "      <th>8872</th>\n",
       "      <td>1059</td>\n",
       "      <td>Little Women</td>\n",
       "      <td>it was ok</td>\n",
       "    </tr>\n",
       "    <tr>\n",
       "      <th>8889</th>\n",
       "      <td>1059</td>\n",
       "      <td>Romeo and Juliet</td>\n",
       "      <td>liked it</td>\n",
       "    </tr>\n",
       "    <tr>\n",
       "      <th>8909</th>\n",
       "      <td>1059</td>\n",
       "      <td>Lord of the Flies</td>\n",
       "      <td>did not like it</td>\n",
       "    </tr>\n",
       "    <tr>\n",
       "      <th>8948</th>\n",
       "      <td>1059</td>\n",
       "      <td>Where the Sidewalk Ends</td>\n",
       "      <td>liked it</td>\n",
       "    </tr>\n",
       "    <tr>\n",
       "      <th>8964</th>\n",
       "      <td>1059</td>\n",
       "      <td>Animal, Vegetable, Miracle: A Year of Food Life</td>\n",
       "      <td>did not like it</td>\n",
       "    </tr>\n",
       "    <tr>\n",
       "      <th>8971</th>\n",
       "      <td>1059</td>\n",
       "      <td>Skinwalkers (Leaphorn &amp; Chee, #7)</td>\n",
       "      <td>really liked it</td>\n",
       "    </tr>\n",
       "    <tr>\n",
       "      <th>8972</th>\n",
       "      <td>1059</td>\n",
       "      <td>The Dark Wind (Leaphorn &amp; Chee, #5)</td>\n",
       "      <td>liked it</td>\n",
       "    </tr>\n",
       "    <tr>\n",
       "      <th>8973</th>\n",
       "      <td>1059</td>\n",
       "      <td>The Wailing Wind (Leaphorn &amp; Chee, #15)</td>\n",
       "      <td>really liked it</td>\n",
       "    </tr>\n",
       "    <tr>\n",
       "      <th>8974</th>\n",
       "      <td>1059</td>\n",
       "      <td>Hush Puppy (Melanie Travis, #6)</td>\n",
       "      <td>it was ok</td>\n",
       "    </tr>\n",
       "    <tr>\n",
       "      <th>8975</th>\n",
       "      <td>1059</td>\n",
       "      <td>Unleashed (Melanie Travis, #7)</td>\n",
       "      <td>it was ok</td>\n",
       "    </tr>\n",
       "  </tbody>\n",
       "</table>\n",
       "</div>"
      ],
      "text/plain": [
       "        ID                                               Name           Rating\n",
       "524   1059                                    Of Mice and Men         liked it\n",
       "564   1059             The Da Vinci Code (Robert Langdon, #2)  did not like it\n",
       "644   1059                                Memoirs of a Geisha  did not like it\n",
       "826   1059  Harry Potter and the Order of the Phoenix (Har...  really liked it\n",
       "1499  1059                                    Eat, Pray, Love        it was ok\n",
       "1701  1059  Harry Potter and the Deathly Hallows (Harry Po...  really liked it\n",
       "2132  1059                                          Middlesex  did not like it\n",
       "2188  1059                                        Animal Farm        it was ok\n",
       "2639  1059  Harry Potter and the Prisoner of Azkaban (Harr...  really liked it\n",
       "2704  1059  Harry Potter and the Half-Blood Prince (Harry ...  really liked it\n",
       "2762  1059  Harry Potter and the Goblet of Fire (Harry Pot...  really liked it\n",
       "2821  1059                              To Kill a Mockingbird         liked it\n",
       "2930  1059                                   The Great Gatsby        it was ok\n",
       "2997  1059  Harry Potter and the Sorcerer's Stone (Harry P...  really liked it\n",
       "3069  1059                             The Catcher in the Rye        it was ok\n",
       "3742  1059  The Hitchhiker's Guide to the Galaxy (Hitchhik...  really liked it\n",
       "3762  1059  Harry Potter and the Chamber of Secrets (Harry...  really liked it\n",
       "4046  1059                                    The Giving Tree  really liked it\n",
       "4245  1059                      One Hundred Years of Solitude  did not like it\n",
       "4930  1059                                Water for Elephants         liked it\n",
       "5139  1059                                      Into the Wild  really liked it\n",
       "5539  1059                       The Memory Keeper's Daughter  did not like it\n",
       "6422  1059                          Outlander (Outlander, #1)         liked it\n",
       "6443  1059                  Jurassic Park (Jurassic Park, #1)        it was ok\n",
       "6660  1059                The Hobbit, or There and Back Again  did not like it\n",
       "6683  1059                                     Les Misérables  really liked it\n",
       "7196  1059                 The Adventures of Huckleberry Finn         liked it\n",
       "7535  1059                    Ender's Game (Ender's Saga, #1)  did not like it\n",
       "7727  1059        The Golden Compass (His Dark Materials, #1)         liked it\n",
       "8726  1059  Wicked: The Life and Times of the Wicked Witch...  did not like it\n",
       "8737  1059  The Curious Incident of the Dog in the Night-Time  did not like it\n",
       "8773  1059                                     Fahrenheit 451  did not like it\n",
       "8804  1059                           The Time Traveler's Wife         liked it\n",
       "8835  1059  Into Thin Air: A Personal Account of the Mount...  really liked it\n",
       "8845  1059           The Hunt for Red October (Jack Ryan, #3)        it was ok\n",
       "8847  1059                 A Time to Kill (Jake Brigance, #1)        it was ok\n",
       "8855  1059                                        The Shining  did not like it\n",
       "8869  1059                            Moby-Dick or, the Whale        it was ok\n",
       "8872  1059                                       Little Women        it was ok\n",
       "8889  1059                                   Romeo and Juliet         liked it\n",
       "8909  1059                                  Lord of the Flies  did not like it\n",
       "8948  1059                            Where the Sidewalk Ends         liked it\n",
       "8964  1059    Animal, Vegetable, Miracle: A Year of Food Life  did not like it\n",
       "8971  1059                  Skinwalkers (Leaphorn & Chee, #7)  really liked it\n",
       "8972  1059                The Dark Wind (Leaphorn & Chee, #5)         liked it\n",
       "8973  1059            The Wailing Wind (Leaphorn & Chee, #15)  really liked it\n",
       "8974  1059                    Hush Puppy (Melanie Travis, #6)        it was ok\n",
       "8975  1059                     Unleashed (Melanie Travis, #7)        it was ok"
      ]
     },
     "execution_count": 14,
     "metadata": {},
     "output_type": "execute_result"
    }
   ],
   "source": [
    "user_rating[user_rating['ID'] == 1059]"
   ]
  },
  {
   "cell_type": "code",
   "execution_count": 15,
   "id": "5c6833a2",
   "metadata": {},
   "outputs": [],
   "source": [
    "set1 = set(book_data['Name'])\n",
    "set2 = set(user_rating['Name'])\n",
    "\n",
    "common_books = set1.intersection(set2)"
   ]
  },
  {
   "cell_type": "code",
   "execution_count": 16,
   "id": "52b42515",
   "metadata": {},
   "outputs": [
    {
     "data": {
      "text/plain": [
       "1978"
      ]
     },
     "execution_count": 16,
     "metadata": {},
     "output_type": "execute_result"
    }
   ],
   "source": [
    "len(common_books)"
   ]
  },
  {
   "cell_type": "code",
   "execution_count": 17,
   "id": "7de8fc4b",
   "metadata": {},
   "outputs": [],
   "source": [
    "value_counts = user_rating.Name.value_counts()\n",
    "user_rating = user_rating[user_rating['Name'].isin(value_counts.index[value_counts > 200])]"
   ]
  },
  {
   "cell_type": "code",
   "execution_count": 18,
   "id": "de39bdbe",
   "metadata": {},
   "outputs": [
    {
     "data": {
      "text/plain": [
       "(25028, 3)"
      ]
     },
     "execution_count": 18,
     "metadata": {},
     "output_type": "execute_result"
    }
   ],
   "source": [
    "user_rating.shape"
   ]
  },
  {
   "cell_type": "code",
   "execution_count": 19,
   "id": "627761e8",
   "metadata": {},
   "outputs": [
    {
     "data": {
      "text/plain": [
       "array([1006, 1059, 1063, ..., 9027, 9139, 9549])"
      ]
     },
     "execution_count": 19,
     "metadata": {},
     "output_type": "execute_result"
    }
   ],
   "source": [
    "user_rating.ID.unique()"
   ]
  },
  {
   "cell_type": "code",
   "execution_count": 20,
   "id": "c9faeb61",
   "metadata": {},
   "outputs": [
    {
     "data": {
      "text/html": [
       "<div>\n",
       "<style scoped>\n",
       "    .dataframe tbody tr th:only-of-type {\n",
       "        vertical-align: middle;\n",
       "    }\n",
       "\n",
       "    .dataframe tbody tr th {\n",
       "        vertical-align: top;\n",
       "    }\n",
       "\n",
       "    .dataframe thead th {\n",
       "        text-align: right;\n",
       "    }\n",
       "</style>\n",
       "<table border=\"1\" class=\"dataframe\">\n",
       "  <thead>\n",
       "    <tr style=\"text-align: right;\">\n",
       "      <th></th>\n",
       "      <th>ID</th>\n",
       "      <th>Name</th>\n",
       "      <th>Rating</th>\n",
       "    </tr>\n",
       "  </thead>\n",
       "  <tbody>\n",
       "    <tr>\n",
       "      <th>523</th>\n",
       "      <td>1006</td>\n",
       "      <td>Of Mice and Men</td>\n",
       "      <td>really liked it</td>\n",
       "    </tr>\n",
       "    <tr>\n",
       "      <th>560</th>\n",
       "      <td>1006</td>\n",
       "      <td>The Da Vinci Code (Robert Langdon, #2)</td>\n",
       "      <td>liked it</td>\n",
       "    </tr>\n",
       "    <tr>\n",
       "      <th>639</th>\n",
       "      <td>1006</td>\n",
       "      <td>Memoirs of a Geisha</td>\n",
       "      <td>liked it</td>\n",
       "    </tr>\n",
       "    <tr>\n",
       "      <th>714</th>\n",
       "      <td>1006</td>\n",
       "      <td>1984</td>\n",
       "      <td>it was amazing</td>\n",
       "    </tr>\n",
       "    <tr>\n",
       "      <th>781</th>\n",
       "      <td>1006</td>\n",
       "      <td>Pride and Prejudice</td>\n",
       "      <td>it was amazing</td>\n",
       "    </tr>\n",
       "    <tr>\n",
       "      <th>821</th>\n",
       "      <td>1006</td>\n",
       "      <td>Harry Potter and the Order of the Phoenix (Har...</td>\n",
       "      <td>it was ok</td>\n",
       "    </tr>\n",
       "    <tr>\n",
       "      <th>876</th>\n",
       "      <td>1006</td>\n",
       "      <td>The Kite Runner</td>\n",
       "      <td>it was amazing</td>\n",
       "    </tr>\n",
       "  </tbody>\n",
       "</table>\n",
       "</div>"
      ],
      "text/plain": [
       "       ID                                               Name           Rating\n",
       "523  1006                                    Of Mice and Men  really liked it\n",
       "560  1006             The Da Vinci Code (Robert Langdon, #2)         liked it\n",
       "639  1006                                Memoirs of a Geisha         liked it\n",
       "714  1006                                               1984   it was amazing\n",
       "781  1006                                Pride and Prejudice   it was amazing\n",
       "821  1006  Harry Potter and the Order of the Phoenix (Har...        it was ok\n",
       "876  1006                                    The Kite Runner   it was amazing"
      ]
     },
     "execution_count": 20,
     "metadata": {},
     "output_type": "execute_result"
    }
   ],
   "source": [
    "user_rating[user_rating['ID'] == 1006]"
   ]
  },
  {
   "cell_type": "code",
   "execution_count": 21,
   "id": "aa397084",
   "metadata": {},
   "outputs": [
    {
     "data": {
      "text/html": [
       "<div>\n",
       "<style scoped>\n",
       "    .dataframe tbody tr th:only-of-type {\n",
       "        vertical-align: middle;\n",
       "    }\n",
       "\n",
       "    .dataframe tbody tr th {\n",
       "        vertical-align: top;\n",
       "    }\n",
       "\n",
       "    .dataframe thead th {\n",
       "        text-align: right;\n",
       "    }\n",
       "</style>\n",
       "<table border=\"1\" class=\"dataframe\">\n",
       "  <thead>\n",
       "    <tr style=\"text-align: right;\">\n",
       "      <th></th>\n",
       "      <th>ID</th>\n",
       "      <th>Name</th>\n",
       "      <th>Rating</th>\n",
       "    </tr>\n",
       "  </thead>\n",
       "  <tbody>\n",
       "    <tr>\n",
       "      <th>524</th>\n",
       "      <td>1059</td>\n",
       "      <td>Of Mice and Men</td>\n",
       "      <td>liked it</td>\n",
       "    </tr>\n",
       "    <tr>\n",
       "      <th>564</th>\n",
       "      <td>1059</td>\n",
       "      <td>The Da Vinci Code (Robert Langdon, #2)</td>\n",
       "      <td>did not like it</td>\n",
       "    </tr>\n",
       "    <tr>\n",
       "      <th>644</th>\n",
       "      <td>1059</td>\n",
       "      <td>Memoirs of a Geisha</td>\n",
       "      <td>did not like it</td>\n",
       "    </tr>\n",
       "    <tr>\n",
       "      <th>826</th>\n",
       "      <td>1059</td>\n",
       "      <td>Harry Potter and the Order of the Phoenix (Har...</td>\n",
       "      <td>really liked it</td>\n",
       "    </tr>\n",
       "    <tr>\n",
       "      <th>1499</th>\n",
       "      <td>1059</td>\n",
       "      <td>Eat, Pray, Love</td>\n",
       "      <td>it was ok</td>\n",
       "    </tr>\n",
       "    <tr>\n",
       "      <th>1701</th>\n",
       "      <td>1059</td>\n",
       "      <td>Harry Potter and the Deathly Hallows (Harry Po...</td>\n",
       "      <td>really liked it</td>\n",
       "    </tr>\n",
       "    <tr>\n",
       "      <th>2132</th>\n",
       "      <td>1059</td>\n",
       "      <td>Middlesex</td>\n",
       "      <td>did not like it</td>\n",
       "    </tr>\n",
       "    <tr>\n",
       "      <th>2188</th>\n",
       "      <td>1059</td>\n",
       "      <td>Animal Farm</td>\n",
       "      <td>it was ok</td>\n",
       "    </tr>\n",
       "    <tr>\n",
       "      <th>2639</th>\n",
       "      <td>1059</td>\n",
       "      <td>Harry Potter and the Prisoner of Azkaban (Harr...</td>\n",
       "      <td>really liked it</td>\n",
       "    </tr>\n",
       "    <tr>\n",
       "      <th>2704</th>\n",
       "      <td>1059</td>\n",
       "      <td>Harry Potter and the Half-Blood Prince (Harry ...</td>\n",
       "      <td>really liked it</td>\n",
       "    </tr>\n",
       "    <tr>\n",
       "      <th>2762</th>\n",
       "      <td>1059</td>\n",
       "      <td>Harry Potter and the Goblet of Fire (Harry Pot...</td>\n",
       "      <td>really liked it</td>\n",
       "    </tr>\n",
       "    <tr>\n",
       "      <th>2821</th>\n",
       "      <td>1059</td>\n",
       "      <td>To Kill a Mockingbird</td>\n",
       "      <td>liked it</td>\n",
       "    </tr>\n",
       "    <tr>\n",
       "      <th>2930</th>\n",
       "      <td>1059</td>\n",
       "      <td>The Great Gatsby</td>\n",
       "      <td>it was ok</td>\n",
       "    </tr>\n",
       "    <tr>\n",
       "      <th>2997</th>\n",
       "      <td>1059</td>\n",
       "      <td>Harry Potter and the Sorcerer's Stone (Harry P...</td>\n",
       "      <td>really liked it</td>\n",
       "    </tr>\n",
       "    <tr>\n",
       "      <th>3069</th>\n",
       "      <td>1059</td>\n",
       "      <td>The Catcher in the Rye</td>\n",
       "      <td>it was ok</td>\n",
       "    </tr>\n",
       "    <tr>\n",
       "      <th>3762</th>\n",
       "      <td>1059</td>\n",
       "      <td>Harry Potter and the Chamber of Secrets (Harry...</td>\n",
       "      <td>really liked it</td>\n",
       "    </tr>\n",
       "    <tr>\n",
       "      <th>4046</th>\n",
       "      <td>1059</td>\n",
       "      <td>The Giving Tree</td>\n",
       "      <td>really liked it</td>\n",
       "    </tr>\n",
       "    <tr>\n",
       "      <th>4245</th>\n",
       "      <td>1059</td>\n",
       "      <td>One Hundred Years of Solitude</td>\n",
       "      <td>did not like it</td>\n",
       "    </tr>\n",
       "    <tr>\n",
       "      <th>4930</th>\n",
       "      <td>1059</td>\n",
       "      <td>Water for Elephants</td>\n",
       "      <td>liked it</td>\n",
       "    </tr>\n",
       "    <tr>\n",
       "      <th>6660</th>\n",
       "      <td>1059</td>\n",
       "      <td>The Hobbit, or There and Back Again</td>\n",
       "      <td>did not like it</td>\n",
       "    </tr>\n",
       "    <tr>\n",
       "      <th>7196</th>\n",
       "      <td>1059</td>\n",
       "      <td>The Adventures of Huckleberry Finn</td>\n",
       "      <td>liked it</td>\n",
       "    </tr>\n",
       "    <tr>\n",
       "      <th>7535</th>\n",
       "      <td>1059</td>\n",
       "      <td>Ender's Game (Ender's Saga, #1)</td>\n",
       "      <td>did not like it</td>\n",
       "    </tr>\n",
       "    <tr>\n",
       "      <th>8737</th>\n",
       "      <td>1059</td>\n",
       "      <td>The Curious Incident of the Dog in the Night-Time</td>\n",
       "      <td>did not like it</td>\n",
       "    </tr>\n",
       "    <tr>\n",
       "      <th>8773</th>\n",
       "      <td>1059</td>\n",
       "      <td>Fahrenheit 451</td>\n",
       "      <td>did not like it</td>\n",
       "    </tr>\n",
       "    <tr>\n",
       "      <th>8804</th>\n",
       "      <td>1059</td>\n",
       "      <td>The Time Traveler's Wife</td>\n",
       "      <td>liked it</td>\n",
       "    </tr>\n",
       "    <tr>\n",
       "      <th>8872</th>\n",
       "      <td>1059</td>\n",
       "      <td>Little Women</td>\n",
       "      <td>it was ok</td>\n",
       "    </tr>\n",
       "    <tr>\n",
       "      <th>8889</th>\n",
       "      <td>1059</td>\n",
       "      <td>Romeo and Juliet</td>\n",
       "      <td>liked it</td>\n",
       "    </tr>\n",
       "    <tr>\n",
       "      <th>8909</th>\n",
       "      <td>1059</td>\n",
       "      <td>Lord of the Flies</td>\n",
       "      <td>did not like it</td>\n",
       "    </tr>\n",
       "  </tbody>\n",
       "</table>\n",
       "</div>"
      ],
      "text/plain": [
       "        ID                                               Name           Rating\n",
       "524   1059                                    Of Mice and Men         liked it\n",
       "564   1059             The Da Vinci Code (Robert Langdon, #2)  did not like it\n",
       "644   1059                                Memoirs of a Geisha  did not like it\n",
       "826   1059  Harry Potter and the Order of the Phoenix (Har...  really liked it\n",
       "1499  1059                                    Eat, Pray, Love        it was ok\n",
       "1701  1059  Harry Potter and the Deathly Hallows (Harry Po...  really liked it\n",
       "2132  1059                                          Middlesex  did not like it\n",
       "2188  1059                                        Animal Farm        it was ok\n",
       "2639  1059  Harry Potter and the Prisoner of Azkaban (Harr...  really liked it\n",
       "2704  1059  Harry Potter and the Half-Blood Prince (Harry ...  really liked it\n",
       "2762  1059  Harry Potter and the Goblet of Fire (Harry Pot...  really liked it\n",
       "2821  1059                              To Kill a Mockingbird         liked it\n",
       "2930  1059                                   The Great Gatsby        it was ok\n",
       "2997  1059  Harry Potter and the Sorcerer's Stone (Harry P...  really liked it\n",
       "3069  1059                             The Catcher in the Rye        it was ok\n",
       "3762  1059  Harry Potter and the Chamber of Secrets (Harry...  really liked it\n",
       "4046  1059                                    The Giving Tree  really liked it\n",
       "4245  1059                      One Hundred Years of Solitude  did not like it\n",
       "4930  1059                                Water for Elephants         liked it\n",
       "6660  1059                The Hobbit, or There and Back Again  did not like it\n",
       "7196  1059                 The Adventures of Huckleberry Finn         liked it\n",
       "7535  1059                    Ender's Game (Ender's Saga, #1)  did not like it\n",
       "8737  1059  The Curious Incident of the Dog in the Night-Time  did not like it\n",
       "8773  1059                                     Fahrenheit 451  did not like it\n",
       "8804  1059                           The Time Traveler's Wife         liked it\n",
       "8872  1059                                       Little Women        it was ok\n",
       "8889  1059                                   Romeo and Juliet         liked it\n",
       "8909  1059                                  Lord of the Flies  did not like it"
      ]
     },
     "execution_count": 21,
     "metadata": {},
     "output_type": "execute_result"
    }
   ],
   "source": [
    "user_rating[user_rating['ID'] == 1059]"
   ]
  },
  {
   "cell_type": "code",
   "execution_count": 22,
   "id": "8f8275c3",
   "metadata": {},
   "outputs": [
    {
     "data": {
      "text/plain": [
       "array([4, 3, 5, 2, 1])"
      ]
     },
     "execution_count": 22,
     "metadata": {},
     "output_type": "execute_result"
    }
   ],
   "source": [
    "def rating_to_num(text):\n",
    "    if text == \"it was amazing\":\n",
    "        return 5\n",
    "    elif text == \"really liked it\":\n",
    "        return 4\n",
    "    elif text == \"liked it\":\n",
    "        return 3\n",
    "    elif text == \"it was ok\":\n",
    "        return 2\n",
    "    elif text == \"did not like it\":\n",
    "        return 1\n",
    "    else:\n",
    "        return -1\n",
    "\n",
    "user_rating['Rating'] = user_rating['Rating'].apply(rating_to_num)\n",
    "user_rating.Rating.unique()"
   ]
  },
  {
   "cell_type": "code",
   "execution_count": null,
   "id": "6e47e111",
   "metadata": {},
   "outputs": [],
   "source": []
  },
  {
   "cell_type": "markdown",
   "id": "b3ac3f0d",
   "metadata": {},
   "source": [
    "## EDA"
   ]
  },
  {
   "cell_type": "code",
   "execution_count": 102,
   "id": "b6281f4a",
   "metadata": {
    "scrolled": true
   },
   "outputs": [
    {
     "name": "stderr",
     "output_type": "stream",
     "text": [
      "/var/folders/tz/3f4706312hg_4czj7swryz800000gn/T/ipykernel_10711/727104182.py:2: FutureWarning: Passing a negative integer is deprecated in version 1.0 and will not be supported in future version. Instead, use None to not limit the column width.\n",
      "  pd.set_option('display.max_colwidth', -1)\n"
     ]
    },
    {
     "data": {
      "text/plain": [
       "'set in the beautiful, but poverty stricken region of southwest texas known as the big bend and the corresponding chihuahuan desert of northern mexico, the story depicts the lives of three local marijuanos, whose endless obsession to get high catapults them into the dangerous world of drug smuggling. their journey brings instant success: drugs, money, prostitutes, and notoriety - among their peers, and cops - both bad and good. they soon discover the world of drug smuggling may prove much easier to get into than out of - alive anyway. follow these young men through a world few know intimately, a land of smugglers, outlaws, and desperados, where every living creature seems poised to bite, strike, stick or sting. witness their fight for survival as they battle forces that threaten not only their lives, but their souls as well.'"
      ]
     },
     "execution_count": 102,
     "metadata": {},
     "output_type": "execute_result"
    }
   ],
   "source": [
    "#Let's check how do descriptions look like (since they are the main variable)\n",
    "pd.set_option('display.max_colwidth', -1) \n",
    "book_data['Description'][1]"
   ]
  },
  {
   "cell_type": "code",
   "execution_count": 103,
   "id": "55e582c4",
   "metadata": {},
   "outputs": [
    {
     "data": {
      "text/plain": [
       "Index(['Id', 'Name', 'Authors', 'ISBN', 'Rating', 'Description'], dtype='object')"
      ]
     },
     "execution_count": 103,
     "metadata": {},
     "output_type": "execute_result"
    }
   ],
   "source": [
    "book_data.columns"
   ]
  },
  {
   "cell_type": "code",
   "execution_count": 7,
   "id": "82f7cc85",
   "metadata": {},
   "outputs": [
    {
     "data": {
      "text/plain": [
       "Text(0, 0.5, 'Frequency')"
      ]
     },
     "execution_count": 7,
     "metadata": {},
     "output_type": "execute_result"
    },
    {
     "data": {
      "image/png": "[encoded data removed]",
      "text/plain": [
       "<Figure size 1080x360 with 1 Axes>"
      ]
     },
     "metadata": {
      "needs_background": "light"
     },
     "output_type": "display_data"
    }
   ],
   "source": [
    "plt.rcParams[\"figure.figsize\"] = (15,5)\n",
    "plt.hist(book_data['Rating'])\n",
    "plt.title(\"Histogram of Rating of Books\")\n",
    "plt.xlabel(\"Rating\")\n",
    "plt.ylabel(\"Frequency\")"
   ]
  },
  {
   "cell_type": "code",
   "execution_count": 24,
   "id": "a2ad8b64",
   "metadata": {},
   "outputs": [
    {
     "data": {
      "text/plain": [
       "Text(0, 0.5, 'Frequency')"
      ]
     },
     "execution_count": 24,
     "metadata": {},
     "output_type": "execute_result"
    },
    {
     "data": {
      "image/png": "[encoded data removed]",
      "text/plain": [
       "<Figure size 720x360 with 1 Axes>"
      ]
     },
     "metadata": {
      "needs_background": "light"
     },
     "output_type": "display_data"
    }
   ],
   "source": [
    "plt.rcParams[\"figure.figsize\"] = (10,5)\n",
    "plt.hist(user_rating['Rating'])\n",
    "plt.title(\"Histogram of Rating of Books by Users\")\n",
    "plt.xlabel(\"Rating\")\n",
    "plt.ylabel(\"Frequency\")"
   ]
  },
  {
   "cell_type": "markdown",
   "id": "d80908bf",
   "metadata": {},
   "source": [
    "## Building a TF-IDF Vector"
   ]
  },
  {
   "cell_type": "code",
   "execution_count": 106,
   "id": "7952fc86",
   "metadata": {},
   "outputs": [],
   "source": [
    "\n",
    "vectorizer = TfidfVectorizer(min_df = 0.1, stop_words = 'english')\n",
    "model = vectorizer.fit_transform(book_data[\"Description\"])\n"
   ]
  },
  {
   "cell_type": "code",
   "execution_count": null,
   "id": "fe00df95",
   "metadata": {},
   "outputs": [],
   "source": [
    "cosine_similarity = cosine_similarity(model) "
   ]
  },
  {
   "cell_type": "code",
   "execution_count": 139,
   "id": "1bc7be30",
   "metadata": {},
   "outputs": [],
   "source": [
    "#np.save(\"cosine_similarity\", cosine_similarity)"
   ]
  },
  {
   "cell_type": "code",
   "execution_count": 27,
   "id": "a6dbc9b0",
   "metadata": {},
   "outputs": [],
   "source": [
    "#cosine_similarity = np.load(\"cosine_similarity.npy\")"
   ]
  },
  {
   "cell_type": "code",
   "execution_count": 3,
   "id": "698c1332",
   "metadata": {},
   "outputs": [],
   "source": [
    "#book_data.to_csv(\"book_data.csv\", index = False)\n",
    "#book_data = pd.read_csv(\"book_data.csv\")"
   ]
  },
  {
   "cell_type": "code",
   "execution_count": 91,
   "id": "5ac5f516",
   "metadata": {},
   "outputs": [
    {
     "name": "stdout",
     "output_type": "stream",
     "text": [
      "A Journey to Palmyra: Collected Essays to Remember Delbert R. Hillers\n",
      "a journey to palmyra originates from the desire to remember delbert r. hillers, who greatly contributed with his work to palmyrene studies. however, it is not meant just as a memorial volume, but as a research tool. it contains thirteen papers by scholars in the field of palmyrene studies and semitics focusing on different aspects of palmyrene history, social history, art, archaeology and philology, with publication of newly discovered inscriptions. it offers a state-of-the-art discussion on several issues pertaining to the field of palmyrene studies, and illustrates methodologies to be employed in order to increase our knowledge of the complex and multifaceted culture of ancient palmyra and of neighbouring areas.\n"
     ]
    }
   ],
   "source": [
    "index = 10392\n",
    "print(book_data['Name'].iloc[index])\n",
    "print(book_data['Description'].iloc[index])"
   ]
  },
  {
   "cell_type": "code",
   "execution_count": 92,
   "id": "a613df3d",
   "metadata": {},
   "outputs": [
    {
     "name": "stdout",
     "output_type": "stream",
     "text": [
      "[39655 18877  9688 51619 25778 25972 51851 10266  6461 10392]\n"
     ]
    }
   ],
   "source": [
    "most_similar = cosine_similarity[index].argsort()[::-1][1:11]\n",
    "print(most_similar)"
   ]
  },
  {
   "cell_type": "code",
   "execution_count": 93,
   "id": "a99cb6b7",
   "metadata": {},
   "outputs": [
    {
     "name": "stdout",
     "output_type": "stream",
     "text": [
      "Pilgrim Voices: Narrative and Authorship in Christian Pilgrimage\n",
      "Letters to Ted\n",
      "Queering Public Address: Sexualities in American Historical Discourse\n",
      "Introduction to Theatre Arts: A 36-Week Action Handbook\n",
      "A History of Science in Society, Volume 2: From Philosophy to Utility\n",
      "Readers Theatre for American History\n",
      "Disciplinary Styles in the Scholarship of Teaching and Learning: Exploring Common Ground\n",
      "We Gotta Get Out Of This Place: The True, Tough Story Of Women In Rock\n",
      "Locating Air Force Base Sites: History's Legacy\n",
      "A Journey to Palmyra: Collected Essays to Remember Delbert R. Hillers\n",
      "\n",
      "The most similar book was Pilgrim Voices: Narrative and Authorship in Christian Pilgrimage\n",
      "\n",
      "The description of the book is: \n",
      "\n",
      "research on pilgrimage has traditionally fallen across a series of academic disciplines - anthropology, archaeology, art history, geography, history and theology. to date, relatively little work has been devoted to the issue of pilgrimage as writing and specifically as a form of travel-writing. the aim of the interdisciplinary essays gathered here is to examine the relations of christian pilgrimage to the numerous narratives, which it generates and upon which it depends. authors reveal not only the tensions between oral and written accounts but also the frequent ambiguities of journeys - the possibilities of shifts between secular and sacred forms and accounts of travel. above all, the papers reveal the self-generating and multiple-authored characteristics of pilgrimage narrative: stories of past pilgrimage experience generate future stories and even future journeys.\n"
     ]
    }
   ],
   "source": [
    "for i in most_similar:\n",
    "    print(book_data['Name'].iloc[i])\n",
    "\n",
    "print(\"\")\n",
    "print(f\"The most similar book was {book_data['Name'].iloc[most_similar[0]]}\")\n",
    "print(\"\")\n",
    "print(f\"The description of the book is: \\n\\n{book_data['Description'].iloc[most_similar[0]]}\")\n"
   ]
  },
  {
   "cell_type": "markdown",
   "id": "eac068de",
   "metadata": {},
   "source": [
    "## User-User recommendation system"
   ]
  },
  {
   "cell_type": "code",
   "execution_count": 66,
   "id": "f34f5e93",
   "metadata": {},
   "outputs": [],
   "source": [
    "import pandas as pd\n",
    "from sklearn.metrics.pairwise import cosine_similarity\n",
    "\n",
    "\n",
    "user_book_matrix = user_rating.pivot_table(index='ID', columns='Name', values='Rating')\n",
    "user_book_matrix = user_book_matrix.fillna(0)\n",
    "\n",
    "user_similarity = cosine_similarity(user_book_matrix)\n",
    "\n",
    "\n",
    "def recommend(user_id, user_similarity=user_similarity, n_recommend = 10):\n",
    "\n",
    "    user_similarity_df = pd.DataFrame(user_similarity, index=user_book_matrix.index, columns=user_book_matrix.index)\n",
    "\n",
    "    similar_users = user_similarity_df.loc[user_id]\n",
    "\n",
    "\n",
    "    unread_books = user_book_matrix.loc[user_id][user_book_matrix.loc[user_id] == 0].index\n",
    "\n",
    "\n",
    "    ratings = user_book_matrix.loc[similar_users.index].loc[:, unread_books].mean()\n",
    "\n",
    "\n",
    "    return ratings.sort_values(ascending=False)[:n_recommend]\n",
    "\n",
    "def get_similar_user(user_id):\n",
    "    user_similarity_df = pd.DataFrame(user_similarity, index=user_book_matrix.index, columns=user_book_matrix.index)\n",
    "\n",
    "    similar_users = user_similarity_df.loc[user_id]\n",
    "    \n",
    "    return similar_users.sort_values(ascending=False)[1:10]\n"
   ]
  },
  {
   "cell_type": "code",
   "execution_count": 58,
   "id": "23355867",
   "metadata": {},
   "outputs": [
    {
     "data": {
      "text/plain": [
       "Name\n",
       "1984                      1.024487\n",
       "The Kite Runner           0.971959\n",
       "Pride and Prejudice       0.757504\n",
       "Me Talk Pretty One Day    0.682859\n",
       "Slaughterhouse-Five       0.666272\n",
       "dtype: float64"
      ]
     },
     "execution_count": 58,
     "metadata": {},
     "output_type": "execute_result"
    }
   ],
   "source": [
    "recommend(user_id = 1059, n_recommend = 5)"
   ]
  },
  {
   "cell_type": "code",
   "execution_count": 67,
   "id": "074c9fe6",
   "metadata": {},
   "outputs": [
    {
     "data": {
      "text/plain": [
       "ID\n",
       "9572     0.737820\n",
       "3699     0.737231\n",
       "10098    0.728564\n",
       "3983     0.723863\n",
       "5200     0.719487\n",
       "4924     0.714625\n",
       "2090     0.706462\n",
       "8610     0.705221\n",
       "3628     0.704940\n",
       "Name: 1059, dtype: float64"
      ]
     },
     "execution_count": 67,
     "metadata": {},
     "output_type": "execute_result"
    }
   ],
   "source": [
    "get_similar_user(1059)"
   ]
  },
  {
   "cell_type": "code",
   "execution_count": 68,
   "id": "a7db7a9a",
   "metadata": {},
   "outputs": [
    {
     "name": "stdout",
     "output_type": "stream",
     "text": [
      "User 1059 is most similar with User 9572 and User 3699\n"
     ]
    }
   ],
   "source": [
    "print(\"User 1059 is most similar with User 9572 and User 3699\")"
   ]
  },
  {
   "cell_type": "code",
   "execution_count": null,
   "id": "773e0d96",
   "metadata": {},
   "outputs": [],
   "source": []
  }
 ],
 "metadata": {
  "kernelspec": {
   "display_name": "Python 3 (ipykernel)",
   "language": "python",
   "name": "python3"
  },
  "language_info": {
   "codemirror_mode": {
    "name": "ipython",
    "version": 3
   },
   "file_extension": ".py",
   "mimetype": "text/x-python",
   "name": "python",
   "nbconvert_exporter": "python",
   "pygments_lexer": "ipython3",
   "version": "3.9.0"
  }
 },
 "nbformat": 4,
 "nbformat_minor": 5
}
